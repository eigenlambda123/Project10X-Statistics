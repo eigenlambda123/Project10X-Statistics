{
 "cells": [
  {
   "cell_type": "code",
   "execution_count": 1,
   "id": "dc2f2591-d6d2-44db-8b56-d65e4f4b2d05",
   "metadata": {},
   "outputs": [
    {
     "name": "stdout",
     "output_type": "stream",
     "text": [
      "Binomial P(X=3): 0.2150\n",
      "Geometric P(X=3): 0.1440\n",
      "Poisson P(X=3): 0.2240\n"
     ]
    }
   ],
   "source": [
    "from scipy.stats import binom, geom, poisson\n",
    "\n",
    "# Parameters\n",
    "n = 10\n",
    "p = 0.4\n",
    "λ = 3\n",
    "k = 3\n",
    "\n",
    "# Binomial: P(X = 3)\n",
    "binom_prob = binom.pmf(k, n, p)\n",
    "\n",
    "# Geometric: P(X = 3)\n",
    "geom_prob = geom.pmf(k, p)\n",
    "\n",
    "# Poisson: P(X = 3)\n",
    "poisson_prob = poisson.pmf(k, λ)\n",
    "\n",
    "print(f\"Binomial P(X=3): {binom_prob:.4f}\")\n",
    "print(f\"Geometric P(X=3): {geom_prob:.4f}\")\n",
    "print(f\"Poisson P(X=3): {poisson_prob:.4f}\")"
   ]
  }
 ],
 "metadata": {
  "kernelspec": {
   "display_name": "Python 3 (ipykernel)",
   "language": "python",
   "name": "python3"
  },
  "language_info": {
   "codemirror_mode": {
    "name": "ipython",
    "version": 3
   },
   "file_extension": ".py",
   "mimetype": "text/x-python",
   "name": "python",
   "nbconvert_exporter": "python",
   "pygments_lexer": "ipython3",
   "version": "3.12.6"
  }
 },
 "nbformat": 4,
 "nbformat_minor": 5
}
