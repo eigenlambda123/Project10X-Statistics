{
 "cells": [
  {
   "cell_type": "markdown",
   "id": "966e1275-7870-4c3b-bd08-f9d2b94d089a",
   "metadata": {},
   "source": [
    "### **Scenario**\n",
    "\n",
    "A company uses a medical test for a rare disease:\n",
    "\n",
    "* The disease affects **1%** of the population.\n",
    "* The test is **99% accurate**:\n",
    "\n",
    "  * If a person has the disease, the test is positive **99%** of the time.\n",
    "  * If a person does **not** have the disease, the test is negative **99%** of the time.\n",
    "\n",
    "A person tests **positive**. What is the probability that they actually have the disease?\n",
    "\n",
    "\n",
    "### **Calculations**\n",
    "\n",
    "Let:\n",
    "\n",
    "* $D$: has the disease\n",
    "* $\\neg D$: does not have the disease\n",
    "* $+$: test positive\n",
    "\n",
    "We want $P(D \\mid +)$.\n",
    "\n",
    "1. **Prior probabilities**:\n",
    "\n",
    "$$\n",
    "P(D) = 0.01, \\quad P(\\neg D) = 0.99\n",
    "$$\n",
    "\n",
    "2. **Likelihoods**:\n",
    "\n",
    "$$\n",
    "P(+ \\mid D) = 0.99, \\quad P(+ \\mid \\neg D) = 0.01\n",
    "$$\n",
    "\n",
    "3. **Total probability of testing positive**:\n",
    "\n",
    "$$\n",
    "P(+) = P(+ \\mid D)P(D) + P(+ \\mid \\neg D)P(\\neg D)\n",
    "$$\n",
    "\n",
    "$$\n",
    "P(+) = (0.99)(0.01) + (0.01)(0.99) = 0.0099 + 0.0099 = 0.0198\n",
    "$$\n",
    "\n",
    "4. **Bayes’ Theorem**:\n",
    "\n",
    "$$\n",
    "P(D \\mid +) = \\frac{P(+ \\mid D)P(D)}{P(+)}\n",
    "$$\n",
    "\n",
    "$$\n",
    "P(D \\mid +) = \\frac{0.99 \\cdot 0.01}{0.0198} = \\frac{0.0099}{0.0198} = 0.5\n",
    "$$\n",
    "\n",
    "\n",
    "### **Interpretation**\n",
    "\n",
    "* Even though the test is **99% accurate**, if you test **positive**, the chance you *actually* have the disease is only **50%**.\n",
    "* This happens because the disease is **rare**, so **false positives** carry a big weight."
   ]
  },
  {
   "cell_type": "markdown",
   "id": "f6cb15ac-7553-48a8-9f4c-b5e1f0f53e67",
   "metadata": {},
   "source": [
    "### **Visualization**"
   ]
  },
  {
   "cell_type": "code",
   "execution_count": 1,
   "id": "f627473e-ba6b-43d2-b1f3-d97b049a88a1",
   "metadata": {},
   "outputs": [
    {
     "data": {
      "image/png": "[encoded data removed]",
      "text/plain": [
       "<Figure size 640x480 with 1 Axes>"
      ]
     },
     "metadata": {},
     "output_type": "display_data"
    }
   ],
   "source": [
    "import matplotlib.pyplot as plt\n",
    "\n",
    "# Probabilities\n",
    "P_D = 0.01\n",
    "P_notD = 0.99\n",
    "P_pos_given_D = 0.99\n",
    "P_pos_given_notD = 0.01\n",
    "\n",
    "# Bayes' Theorem\n",
    "P_pos = (P_pos_given_D * P_D) + (P_pos_given_notD * P_notD)\n",
    "P_D_given_pos = (P_pos_given_D * P_D) / P_pos\n",
    "P_notD_given_pos = (P_pos_given_notD * P_notD) / P_pos\n",
    "\n",
    "# Visualization\n",
    "labels = [\"Disease | Positive\", \"No Disease | Positive\"]\n",
    "values = [P_D_given_pos, P_notD_given_pos]\n",
    "\n",
    "plt.bar(labels, values, color=[\"red\", \"blue\"])\n",
    "plt.ylim(0, 1)\n",
    "plt.ylabel(\"Probability\")\n",
    "plt.title(\"Bayes' Theorem: Probability of Disease Given Positive Test\")\n",
    "\n",
    "# Annotate bars\n",
    "for i, v in enumerate(values):\n",
    "    plt.text(i, v + 0.02, f\"{v:.2f}\", ha=\"center\", fontweight=\"bold\")\n",
    "\n",
    "plt.show()"
   ]
  }
 ],
 "metadata": {
  "kernelspec": {
   "display_name": "Python 3 (ipykernel)",
   "language": "python",
   "name": "python3"
  },
  "language_info": {
   "codemirror_mode": {
    "name": "ipython",
    "version": 3
   },
   "file_extension": ".py",
   "mimetype": "text/x-python",
   "name": "python",
   "nbconvert_exporter": "python",
   "pygments_lexer": "ipython3",
   "version": "3.12.6"
  }
 },
 "nbformat": 4,
 "nbformat_minor": 5
}
