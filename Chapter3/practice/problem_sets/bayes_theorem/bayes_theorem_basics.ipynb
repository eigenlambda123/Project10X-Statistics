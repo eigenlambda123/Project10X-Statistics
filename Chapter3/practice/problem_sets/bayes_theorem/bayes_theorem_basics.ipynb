{
 "cells": [
  {
   "cell_type": "markdown",
   "id": "a26e53f1-31ba-419b-903e-78430b499559",
   "metadata": {},
   "source": [
    "### **Problem 1**\n",
    "\n",
    "A factory produces 60% of its items in Plant A and 40% in Plant B.\n",
    "\n",
    "   * 1% of items from Plant A are defective, and 2% from Plant B are defective.\n",
    "   * If an item is defective, what is the probability it came from **Plant B**?"
   ]
  },
  {
   "cell_type": "markdown",
   "id": "193621df-ef09-4618-ba12-62fd306565d7",
   "metadata": {},
   "source": [
    "### **Solution 1**\n",
    "\n",
    "Given:\n",
    "\n",
    "* $P(A)=0.6,\\; P(B)=0.4$\n",
    "* $P(D\\mid A)=0.01,\\; P(D\\mid B)=0.02$\n",
    "* Find $P(B\\mid D)$\n",
    "\n",
    "Bayes:\n",
    "\n",
    "$$\n",
    "P(B\\mid D)=\\frac{P(D\\mid B)P(B)}{P(D\\mid A)P(A)+P(D\\mid B)P(B)}\n",
    "=\\frac{0.02\\cdot 0.4}{0.01\\cdot 0.6+0.02\\cdot 0.4}\n",
    "=\\frac{0.008}{0.006+0.008}\n",
    "=\\frac{0.008}{0.014}\n",
    "=\\frac{4}{7}\\approx 0.5714.\n",
    "$$\n",
    "\n",
    "**Answer:** $P(B\\mid D)=\\frac{4}{7}\\approx 57.14\\%$.\n",
    "\n",
    "---\n"
   ]
  },
  {
   "cell_type": "markdown",
   "id": "8c539e10-82ad-472a-9203-bf306e696cfd",
   "metadata": {},
   "source": [
    "### **Problem 2**\n",
    "A bag has 70% red balls and 30% blue balls. A machine sometimes misreads colors:\n",
    "\n",
    "   * It reads correctly 90% of the time.\n",
    "   * If the machine says “red,” what is the probability the ball is actually red?"
   ]
  },
  {
   "cell_type": "markdown",
   "id": "cb1f7fae-a58a-40d6-8a73-c7e2c5d1f3d9",
   "metadata": {},
   "source": [
    "### **Solution 2**\n",
    "\n",
    "Given:\n",
    "\n",
    "* Prior: $P(\\text{Red})=0.7,\\; P(\\text{Blue})=0.3$\n",
    "* Reader correct $90\\%$: $P(\\text{reads Red}\\mid \\text{Red})=0.9,\\; P(\\text{reads Red}\\mid \\text{Blue})=0.1$\n",
    "* Find $P(\\text{Red}\\mid \\text{reads Red})$\n",
    "\n",
    "Bayes:\n",
    "\n",
    "$$\n",
    "P(\\text{Red}\\mid \\text{reads Red})\n",
    "=\\frac{0.9\\cdot 0.7}{0.9\\cdot 0.7+0.1\\cdot 0.3}\n",
    "=\\frac{0.63}{0.63+0.03}\n",
    "=\\frac{0.63}{0.66}\n",
    "=\\frac{21}{22}\\approx 0.9545.\n",
    "$$\n",
    "\n",
    "**Answer:** $P(\\text{Red}\\mid \\text{reads Red})=\\frac{21}{22}\\approx 95.45\\%$.\n"
   ]
  }
 ],
 "metadata": {
  "kernelspec": {
   "display_name": "Python 3 (ipykernel)",
   "language": "python",
   "name": "python3"
  },
  "language_info": {
   "codemirror_mode": {
    "name": "ipython",
    "version": 3
   },
   "file_extension": ".py",
   "mimetype": "text/x-python",
   "name": "python",
   "nbconvert_exporter": "python",
   "pygments_lexer": "ipython3",
   "version": "3.12.6"
  }
 },
 "nbformat": 4,
 "nbformat_minor": 5
}
