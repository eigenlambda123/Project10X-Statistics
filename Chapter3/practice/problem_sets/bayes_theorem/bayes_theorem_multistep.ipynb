{
 "cells": [
  {
   "cell_type": "markdown",
   "id": "59714e6a-0ad9-4e98-99f8-df322834fd86",
   "metadata": {},
   "source": [
    "### **Problem 1**\n",
    "\n",
    "A factory has 3 machines:\n",
    "\n",
    "   * Machine A produces 30% of the items (5% defective).\n",
    "   * Machine B produces 50% of the items (2% defective).\n",
    "   * Machine C produces 20% of the items (1% defective).\n",
    "     If an item is defective, what is the probability it came from **Machine A**?\n"
   ]
  },
  {
   "cell_type": "markdown",
   "id": "fe843d7d-e5cc-4fab-bf6e-2a0b5e059605",
   "metadata": {},
   "source": [
    "### **Solution 1**\n",
    "    \n",
    "**Given**\n",
    "\n",
    "* Machine A: produces 30% of items, defect rate 5%\n",
    "  $P(A)=0.30,\\; P(D\\mid A)=0.05$\n",
    "* Machine B: produces 50% of items, defect rate 2%\n",
    "  $P(B)=0.50,\\; P(D\\mid B)=0.02$\n",
    "* Machine C: produces 20% of items, defect rate 1%\n",
    "  $P(C)=0.20,\\; P(D\\mid C)=0.01$\n",
    "\n",
    "We observe a defective item and want $P(A\\mid D)$.\n",
    "\n",
    "Use Bayes’ theorem with the law of total probability for $P(D)$:\n",
    "\n",
    "$$\n",
    "\\begin{aligned}\n",
    "P(D) &= P(D\\mid A)P(A) + P(D\\mid B)P(B) + P(D\\mid C)P(C)\\\\\n",
    "&= (0.05)(0.30) + (0.02)(0.50) + (0.01)(0.20)\\\\\n",
    "&= 0.015 + 0.010 + 0.002 = 0.027.\n",
    "\\end{aligned}\n",
    "$$\n",
    "\n",
    "Now\n",
    "\n",
    "$$\n",
    "\\begin{aligned}\n",
    "P(A\\mid D)\n",
    "&= \\frac{P(D\\mid A)P(A)}{P(D)} \n",
    "= \\frac{0.05\\times 0.30}{0.027} \n",
    "= \\frac{0.015}{0.027} \\\\\n",
    "&= \\frac{15}{27} = \\frac{5}{9} \\approx 0.5556.\n",
    "\\end{aligned}\n",
    "$$\n",
    "\n",
    "**Answer:** $P(A\\mid D)=\\dfrac{5}{9}\\approx 55.56\\%$."
   ]
  },
  {
   "cell_type": "markdown",
   "id": "26cd9645-0bfd-48ba-bc76-784bf25da33c",
   "metadata": {},
   "source": [
    "---\n",
    "\n",
    "### **Problem 2**\n",
    "\n",
    "Monty Hall twist (Bayesian reasoning):\n",
    "\n",
    "   * You choose 1 of 3 doors. Behind 1 is a car, behind 2 are goats.\n",
    "   * The host opens a door with a goat (not the one you chose).\n",
    "   * What is the probability the car is behind your original choice vs the other unopened door?"
   ]
  },
  {
   "cell_type": "markdown",
   "id": "e737542e-b0e2-425a-884b-635b37bee11f",
   "metadata": {},
   "source": [
    "### **Solution 2**\n",
    "\n",
    "**Intuition**\n",
    "\n",
    "* When you first pick a door, the probability the car is behind your chosen door is $1/3$. The probability it's behind one of the other two doors is $2/3$.\n",
    "* The host’s action of opening a goat door gives you information but crucially does not split the original $2/3$ evenly — the host *concentrates* that $2/3$ probability on the single remaining unopened door.\n",
    "  \n",
    "* Therefore:\n",
    "\n",
    "  * Probability the car is behind your original door (after host opens a goat) = $1/3$.\n",
    "  * Probability the car is behind the other unopened door = $2/3$.\n",
    "\n",
    "**Bayes-style calculation**\n",
    "\n",
    "Let $H_i$ = car behind door $i$. Suppose you pick door 1. The host opens a goat door; call the opened door 2 (without loss of generality). Compute $P(H_1 \\mid \\text{host opens 2})$.\n",
    "\n",
    "* Prior: $P(H_1)=P(H_2)=P(H_3)=1/3$.\n",
    "* Likelihoods:\n",
    "\n",
    "  * If car is behind door 1, host may open door 2 or 3 (both goats). For symmetry assume he chooses uniformly between them: $P(\\text{open 2}\\mid H_1)=1/2$.\n",
    "  * If car is behind door 2, host cannot open door 2 (it has the car) and must open door 3: $P(\\text{open 2}\\mid H_2)=0$.\n",
    "  * If car is behind door 3, host must open door 2 (goat): $P(\\text{open 2}\\mid H_3)=1$.\n",
    "\n",
    "Apply Bayes:\n",
    "\n",
    "$$\n",
    "\\begin{aligned}\n",
    "P(H_1\\mid\\text{open 2})\n",
    "&= \\frac{P(\\text{open 2}\\mid H_1)P(H_1)}{\\sum_{i=1}^3 P(\\text{open 2}\\mid H_i)P(H_i)}\\\\\n",
    "&= \\frac{(1/2)(1/3)}{(1/2)(1/3) + 0\\cdot(1/3) + 1\\cdot(1/3)}\n",
    "= \\frac{1/6}{1/6 + 0 + 1/3} = \\frac{1/6}{1/2} = \\frac{1}{3}.\n",
    "\\end{aligned}\n",
    "$$\n",
    "\n",
    "Thus $P(H_1\\mid\\text{host opens a (specific) goat})=1/3$. The remaining unopened door therefore has probability $2/3$.\n",
    "\n",
    "**Answer:**\n",
    "\n",
    "* Stay: $P(\\text{car behind original}) = \\tfrac{1}{3}$.\n",
    "* Switch: $P(\\text{car behind other unopened door}) = \\tfrac{2}{3}$.\n",
    "\n",
    "Switching doubles your chance of winning (from $1/3$ to $2/3$)."
   ]
  }
 ],
 "metadata": {
  "kernelspec": {
   "display_name": "Python 3 (ipykernel)",
   "language": "python",
   "name": "python3"
  },
  "language_info": {
   "codemirror_mode": {
    "name": "ipython",
    "version": 3
   },
   "file_extension": ".py",
   "mimetype": "text/x-python",
   "name": "python",
   "nbconvert_exporter": "python",
   "pygments_lexer": "ipython3",
   "version": "3.12.6"
  }
 },
 "nbformat": 4,
 "nbformat_minor": 5
}
