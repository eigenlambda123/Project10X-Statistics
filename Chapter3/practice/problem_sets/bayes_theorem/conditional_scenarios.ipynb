{
 "cells": [
  {
   "cell_type": "markdown",
   "id": "ee56b9e7-9ad8-4129-b424-ecd88b79a954",
   "metadata": {},
   "source": [
    "### **Problem 1**\n",
    "\n",
    "A spam filter marks an email as spam with:\n",
    "\n",
    "   * 99% accuracy when it is actually spam\n",
    "   * 95% accuracy when it is actually not spam\n",
    "     In your inbox: 20% of emails are spam.\n",
    "   * If the filter flags an email as spam, what is the probability it is indeed spam?"
   ]
  },
  {
   "cell_type": "markdown",
   "id": "c254201f-f39a-4326-a2b3-42aefa4bf979",
   "metadata": {},
   "source": [
    "### **Solution 1**\n",
    "\n",
    "**Given**\n",
    "\n",
    "* Prior: $P(S)=0.20$ (spam), $P(\\neg S)=0.80$ (not spam)\n",
    "* Accuracy when spam: $P(\\text{flag} \\mid S)=0.99$\n",
    "* Accuracy when not spam: $P(\\text{not flag} \\mid \\neg S)=0.95 \\;\\Rightarrow\\; P(\\text{flag} \\mid \\neg S)=0.05$\n",
    "\n",
    "**Find $P(S \\mid \\text{flag})$:**\n",
    "\n",
    "$$\n",
    "P(S \\mid \\text{flag})\n",
    "=\\frac{P(\\text{flag}\\mid S)\\,P(S)}{P(\\text{flag}\\mid S)\\,P(S)+P(\\text{flag}\\mid \\neg S)\\,P(\\neg S)}\n",
    "=\\frac{0.99\\cdot 0.20}{0.99\\cdot 0.20+0.05\\cdot 0.80}.\n",
    "$$\n",
    "\n",
    "$$\n",
    "=\\frac{0.198}{0.198+0.040}\n",
    "=\\frac{0.198}{0.238}\n",
    "=\\frac{99}{119}\\approx 0.8319.\n",
    "$$\n",
    "\n",
    "**Answer:** $P(S \\mid \\text{flag})\\approx 83.19\\%$.\n",
    "\n"
   ]
  },
  {
   "cell_type": "markdown",
   "id": "5d43e4ff-60ed-42a8-8521-fc758ab96f5f",
   "metadata": {},
   "source": [
    "---\n",
    "### **Problem 2**\n",
    "\n",
    "You’re playing a game:\n",
    "\n",
    "   * A box contains 2 fair coins and 1 two-headed coin.\n",
    "   * You pick a coin at random, flip it, and get **heads**.\n",
    "   * What is the probability you picked the two-headed coin?"
   ]
  },
  {
   "cell_type": "markdown",
   "id": "888b321b-99d2-408c-ab27-297b741f148a",
   "metadata": {},
   "source": [
    "\n",
    "### **Solution 2**\n",
    "    \n",
    "**Given**\n",
    "\n",
    "* Coins: $T$ = two-headed, $F_1, F_2$ = fair.\n",
    "* Priors: $P(T)=P(F_1)=P(F_2)=\\tfrac{1}{3}$.\n",
    "* Likelihoods: $P(H\\mid T)=1,\\; P(H\\mid F_i)=\\tfrac{1}{2}$.\n",
    "\n",
    "**Find $P(T \\mid H)$:**\n",
    "\n",
    "$$\n",
    "P(T\\mid H)=\\frac{P(H\\mid T)P(T)}{P(H)}\n",
    "=\\frac{1\\cdot \\tfrac{1}{3}}{\\tfrac{1}{3}\\cdot 1+\\tfrac{1}{3}\\cdot \\tfrac{1}{2}+\\tfrac{1}{3}\\cdot \\tfrac{1}{2}}\n",
    "=\\frac{\\tfrac{1}{3}}{\\tfrac{1}{3}+\\tfrac{1}{6}+\\tfrac{1}{6}}\n",
    "=\\frac{\\tfrac{1}{3}}{\\tfrac{2}{3}}\n",
    "=\\tfrac{1}{2}=0.5.\n",
    "$$\n",
    "\n",
    "**Answer:** $P(T \\mid H)=\\tfrac{1}{2}=50\\%$.\n"
   ]
  }
 ],
 "metadata": {
  "kernelspec": {
   "display_name": "Python 3 (ipykernel)",
   "language": "python",
   "name": "python3"
  },
  "language_info": {
   "codemirror_mode": {
    "name": "ipython",
    "version": 3
   },
   "file_extension": ".py",
   "mimetype": "text/x-python",
   "name": "python",
   "nbconvert_exporter": "python",
   "pygments_lexer": "ipython3",
   "version": "3.12.6"
  }
 },
 "nbformat": 4,
 "nbformat_minor": 5
}
