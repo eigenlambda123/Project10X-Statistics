{
 "cells": [
  {
   "cell_type": "markdown",
   "id": "12045fef-2170-4abe-9172-0b2b484e2884",
   "metadata": {},
   "source": [
    "### **Problem 1**\n",
    "\n",
    "A disease affects 1 in 1000 people.\n",
    "\n",
    "   * The test detects the disease with **99% sensitivity** (true positive rate).\n",
    "   * It has a **5% false positive rate**.\n",
    "   * If a person tests positive, what is the probability they actually have the disease?\n"
   ]
  },
  {
   "cell_type": "markdown",
   "id": "da778069-50c2-4c4d-8a9c-7008a7b231ab",
   "metadata": {},
   "source": [
    "### **Solution 1**\n",
    "\n",
    "Given:\n",
    "\n",
    "* Prevalence $P(D)=0.001$\n",
    "* Sensitivity $P(+\\mid D)=0.99$\n",
    "* False positive rate $P(+\\mid \\neg D)=0.05$\n",
    "\n",
    "We want $P(D\\mid +)$:\n",
    "\n",
    "$$\n",
    "P(D\\mid +)=\\frac{P(+\\mid D)\\,P(D)}{P(+\\mid D)\\,P(D)+P(+\\mid \\neg D)\\,P(\\neg D)}\n",
    "=\\frac{0.99\\cdot 0.001}{0.99\\cdot 0.001+0.05\\cdot 0.999}.\n",
    "$$\n",
    "\n",
    "$$\n",
    "P(D\\mid +)=\\frac{0.00099}{0.00099+0.04995}\n",
    "=\\frac{0.00099}{0.05094}\n",
    "\\approx 0.0194 \\; (\\text{about }1.94\\%).\n",
    "$$\n",
    "\n",
    "**Answer:** Even with a positive result, the chance of actually having the disease is **\\~1.94%** (the disease is very rare, so false positives dominate).\n"
   ]
  },
  {
   "cell_type": "markdown",
   "id": "8eb9fab5-f6eb-4c35-8905-9a5de1b10d86",
   "metadata": {},
   "source": [
    "---\n",
    "### **Problem 2**\n",
    "\n",
    "Suppose a different test for another disease has:\n",
    "\n",
    "   * **Prevalence** = 10%\n",
    "   * **Sensitivity** = 95%\n",
    "   * **Specificity** = 90%\n",
    "     \n",
    "A patient tests **positive**. What is the probability the patient is truly sick?"
   ]
  },
  {
   "cell_type": "markdown",
   "id": "53b77842-6151-4e8f-a46c-77882a9d0d44",
   "metadata": {},
   "source": [
    "### **Solution 2**\n",
    "\n",
    "Given:\n",
    "\n",
    "* Prevalence $P(D)=0.10$\n",
    "* Sensitivity $P(+\\mid D)=0.95$\n",
    "* Specificity $P(-\\mid \\neg D)=0.90 \\Rightarrow P(+\\mid \\neg D)=0.10$\n",
    "\n",
    "We want $P(D\\mid +)$:\n",
    "\n",
    "$$\n",
    "P(D\\mid +)=\\frac{0.95\\cdot 0.10}{0.95\\cdot 0.10+0.10\\cdot 0.90}\n",
    "=\\frac{0.095}{0.095+0.09}\n",
    "=\\frac{0.095}{0.185}\n",
    "\\approx 0.5135 \\; (\\text{about }51.35\\%).\n",
    "$$\n",
    "\n",
    "**Answer:** With a positive result, the probability of truly being sick is **\\~51.35%** (higher prevalence boosts the positive predictive value).\n"
   ]
  }
 ],
 "metadata": {
  "kernelspec": {
   "display_name": "Python 3 (ipykernel)",
   "language": "python",
   "name": "python3"
  },
  "language_info": {
   "codemirror_mode": {
    "name": "ipython",
    "version": 3
   },
   "file_extension": ".py",
   "mimetype": "text/x-python",
   "name": "python",
   "nbconvert_exporter": "python",
   "pygments_lexer": "ipython3",
   "version": "3.12.6"
  }
 },
 "nbformat": 4,
 "nbformat_minor": 5
}
