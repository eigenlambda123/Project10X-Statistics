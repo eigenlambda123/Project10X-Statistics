{
 "cells": [
  {
   "cell_type": "markdown",
   "id": "46db29d0-36d1-44b5-b02e-58ab28658520",
   "metadata": {},
   "source": [
    "# **Binomial Distribution Formula**\n",
    "\n",
    "The probability of getting exactly $k$ successes in $n$ independent Bernoulli trials:\n",
    "\n",
    "$$\n",
    "P(X = k) = \\binom{n}{k} p^k q^{n - k}\n",
    "$$\n",
    "\n",
    "Where:\n",
    "\n",
    "- $n$ = number of trials  \n",
    "- $k$ = number of successes  \n",
    "- $p$ = probability of success  \n",
    "- $q = 1 - p$ = probability of failure  \n",
    "- $\\binom{n}{k} = \\dfrac{n!}{k!(n - k)!}$ = number of combinations\n"
   ]
  },
  {
   "cell_type": "markdown",
   "id": "c54a93f5-695b-4f8a-8270-74e5ddc06aef",
   "metadata": {},
   "source": [
    "---\n",
    "### Problem 1\n",
    "> 1: If a coin is tossed 3 times, then find the probability of getting exactly two heads."
   ]
  },
  {
   "cell_type": "markdown",
   "id": "98697d12-d5ba-4d06-b951-be9b52422259",
   "metadata": {},
   "source": [
    "### Solution 1\n",
    "\n",
    "#### Step 1: Define parameters\n",
    "\n",
    "* Number of trials: $n = 3$\n",
    "* Desired number of successes (heads): $k = 2$\n",
    "* Probability of success: $p = \\frac{1}{2}$\n",
    "* Probability of failure: $q = 1 - p = \\frac{1}{2}$\n",
    "\n",
    "\n",
    "#### Step 2: Recall the binomial formula\n",
    "\n",
    "$$\n",
    "P(X = k) = \\binom{n}{k} p^k q^{n - k}\n",
    "$$\n",
    "\n",
    "\n",
    "#### Step 3: Plug in the values\n",
    "\n",
    "$$\n",
    "P(X = 2) = \\binom{3}{2} \\left( \\frac{1}{2} \\right)^2 \\left( \\frac{1}{2} \\right)^{3 - 2}\n",
    "$$\n",
    "\n",
    "\n",
    "#### Step 5: Simplify the expression\n",
    "\n",
    "* $\\binom{3}{2} = \\frac{3!}{2!(3 - 2)!} = 3$\n",
    "* $\\left( \\frac{1}{2} \\right)^2 = \\frac{1}{4}$\n",
    "* $\\left( \\frac{1}{2} \\right)^1 = \\frac{1}{2}$\n",
    "\n",
    "Now multiply:\n",
    "\n",
    "$$\n",
    "P(X = 2) = 3 \\cdot \\frac{1}{4} \\cdot \\frac{1}{2} = \\frac{3}{8}\n",
    "$$\n",
    "\n",
    "### **Final Answer**\n",
    "\n",
    "$$\n",
    "\\boxed{\\frac{3}{8} \\quad \\text{or} \\quad 37.5\\%}\n",
    "$$"
   ]
  },
  {
   "cell_type": "markdown",
   "id": "9a29b11f-042d-4dd4-bdcf-4188681545a8",
   "metadata": {},
   "source": [
    "---\n",
    "### Problem 2\n",
    "> 1: A pair of dice is rolled 5 times. If getting the product of 6 is considered as a success. Find the probability of getting at least 4 successes."
   ]
  },
  {
   "cell_type": "code",
   "execution_count": null,
   "id": "bd0a9a75-c4c7-4806-a2b1-34d9951167ff",
   "metadata": {},
   "outputs": [],
   "source": []
  }
 ],
 "metadata": {
  "kernelspec": {
   "display_name": "Python 3 (ipykernel)",
   "language": "python",
   "name": "python3"
  },
  "language_info": {
   "codemirror_mode": {
    "name": "ipython",
    "version": 3
   },
   "file_extension": ".py",
   "mimetype": "text/x-python",
   "name": "python",
   "nbconvert_exporter": "python",
   "pygments_lexer": "ipython3",
   "version": "3.12.6"
  }
 },
 "nbformat": 4,
 "nbformat_minor": 5
}
