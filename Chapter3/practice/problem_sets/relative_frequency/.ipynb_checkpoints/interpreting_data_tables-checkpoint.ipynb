{
 "cells": [
  {
   "cell_type": "markdown",
   "id": "3a5624c4-7d77-400b-a0ac-37071cd1a33d",
   "metadata": {},
   "source": [
    "### **Problem 1**\n",
    "\n",
    "| **Sport**  | **Students** |\n",
    "| ---------- | ------------ |\n",
    "| Basketball | 8            |\n",
    "| Soccer     | 12           |\n",
    "| Volleyball | 5            |\n",
    "| Tennis     | 5            |\n",
    "\n",
    "> **a.** What is the relative frequency of students who play soccer?\n",
    "> **b.** What percentage of students do not play basketball?\n",
    "\n",
    "\n",
    "### **Solution 1**\n",
    "\n",
    "**Total number of students:**\n",
    "\n",
    "$$\n",
    "8 + 12 + 5 + 5 = 30\n",
    "$$\n",
    "\n",
    "**a.** Relative frequency of students who play soccer:\n",
    "\n",
    "$$\n",
    "\\frac{12}{30} = 0.4\n",
    "$$\n",
    "\n",
    "**b.** Percentage of students who **do not** play basketball:\n",
    "\n",
    "$$\n",
    "30 - 8 = 22 \\Rightarrow \\frac{22}{30} = 0.7333 \\Rightarrow 73.33\\%\n",
    "$$\n",
    "\n",
    "---\n",
    "\n"
   ]
  },
  {
   "cell_type": "markdown",
   "id": "7b9c318c-2997-4eac-b9aa-b311b2576454",
   "metadata": {},
   "source": [
    "### **Problem 2: Factory Defects**\n",
    "\n",
    "> A machine produces 500 items. The observed data:\n",
    ">\n",
    "> * 470 were defect-free\n",
    "> * 30 were defective\n",
    ">\n",
    "> **a.** What is the relative frequency of a defect?\n",
    "> **b.** Would you consider the machine reliable? (Explain using your result.)\n",
    "\n",
    "\n",
    "### **Solution 2**\n",
    "\n",
    "**a.** Relative frequency of a defect:\n",
    "\n",
    "$$\n",
    "\\frac{30}{500} = 0.06\n",
    "$$\n",
    "\n",
    "**b.** Is the machine reliable?\n",
    "\n",
    "> Since only **6%** of the products are defective, the machine has a **94% success rate**.\n",
    "> This suggests the machine is **generally reliable**, assuming a defect rate under 10% is acceptable in context.\n"
   ]
  }
 ],
 "metadata": {
  "kernelspec": {
   "display_name": "Python 3 (ipykernel)",
   "language": "python",
   "name": "python3"
  },
  "language_info": {
   "codemirror_mode": {
    "name": "ipython",
    "version": 3
   },
   "file_extension": ".py",
   "mimetype": "text/x-python",
   "name": "python",
   "nbconvert_exporter": "python",
   "pygments_lexer": "ipython3",
   "version": "3.12.6"
  }
 },
 "nbformat": 4,
 "nbformat_minor": 5
}
