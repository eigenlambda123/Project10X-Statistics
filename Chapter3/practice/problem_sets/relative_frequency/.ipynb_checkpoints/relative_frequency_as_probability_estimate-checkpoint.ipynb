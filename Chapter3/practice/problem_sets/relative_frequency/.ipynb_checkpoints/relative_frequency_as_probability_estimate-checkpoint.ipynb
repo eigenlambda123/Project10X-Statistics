{
 "cells": [
  {
   "cell_type": "markdown",
   "id": "ec17bf93-4306-424e-80cb-486d3e80f153",
   "metadata": {},
   "source": [
    "### **Problem 1**\n",
    "\n",
    "A six-sided die was rolled 300 times. The outcomes were:\n",
    "\n",
    "| Number Rolled | Frequency |\n",
    "| ------------- | --------- |\n",
    "| 1             | 42        |\n",
    "| 2             | 48        |\n",
    "| 3             | 55        |\n",
    "| 4             | 50        |\n",
    "| 5             | 53        |\n",
    "| 6             | 52        |\n",
    "\n",
    "**a.** Estimate the probability of rolling a 3.\n",
    "**b.** Estimate the probability of rolling an odd number.\n",
    "**c.** Compare the relative frequencies to the theoretical probability.\n",
    "\n",
    "\n",
    "### **Solution 1**\n",
    "\n",
    "**a.** Estimate of \\$P(3)\\$:\n",
    "\n",
    "$$\n",
    "P(3) \\approx \\frac{55}{300} = 0.1833\n",
    "$$\n",
    "\n",
    "**b.** Estimate of \\$P(\\text{odd number}) = P(1, 3, 5)\\$:\n",
    "\n",
    "$$\n",
    "P(\\text{odd}) \\approx \\frac{42 + 55 + 53}{300} = \\frac{150}{300} = 0.5\n",
    "$$\n",
    "\n",
    "**c.** Comparison to theoretical probabilities:\n",
    "\n",
    "* The theoretical probability of any single number:\n",
    "\n",
    "  $$\n",
    "  \\frac{1}{6} \\approx 0.1667\n",
    "  $$\n",
    "\n",
    "* Estimated \\$P(3) = 0.1833\\$ — slightly higher than the theoretical value.\n",
    "\n",
    "* Estimated \\$P(\\text{odd}) = 0.5\\$ — matches the theoretical value exactly.\n",
    "\n",
    "So, the relative frequencies are reasonably close to theoretical expectations, supporting the **Law of Large Numbers**: as the number of trials increases, experimental probabilities approach theoretical ones.\n",
    "\n",
    "---\n"
   ]
  },
  {
   "cell_type": "markdown",
   "id": "4a948302-1cb7-4bdf-bce0-10dc27229e31",
   "metadata": {},
   "source": [
    "\n",
    "### **Problem 2**\n",
    "\n",
    "> A website tracked visits per hour for a week (168 hours). During 24 of those hours, there were more than 100 visits.\n",
    "> \n",
    ">**a.** What is the relative frequency of high-traffic hours?\n",
    "> \n",
    ">**b.** Would you estimate the chance of high traffic at any given hour to be high or low?\n",
    "\n",
    "\n",
    "### **Solution 2**\n",
    "\n",
    "**a.** Relative frequency of high-traffic hours:\n",
    "\n",
    "$$\n",
    "\\frac{24}{168} = 0.1429 \\approx 14.29\\%\n",
    "$$\n",
    "\n",
    "**b.** Interpretation:\n",
    "\n",
    "Since the relative frequency is about **14.3%**, the chance of high traffic at a random hour is **low** — less than 1 in 6 hours.\n",
    "So we would **not** expect high traffic most of the time.\n"
   ]
  }
 ],
 "metadata": {
  "kernelspec": {
   "display_name": "Python 3 (ipykernel)",
   "language": "python",
   "name": "python3"
  },
  "language_info": {
   "codemirror_mode": {
    "name": "ipython",
    "version": 3
   },
   "file_extension": ".py",
   "mimetype": "text/x-python",
   "name": "python",
   "nbconvert_exporter": "python",
   "pygments_lexer": "ipython3",
   "version": "3.12.6"
  }
 },
 "nbformat": 4,
 "nbformat_minor": 5
}
