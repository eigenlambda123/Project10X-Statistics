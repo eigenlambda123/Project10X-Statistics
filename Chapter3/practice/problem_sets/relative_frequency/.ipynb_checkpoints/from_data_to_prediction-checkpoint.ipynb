{
 "cells": [
  {
   "cell_type": "markdown",
   "id": "dab57998-11d0-4426-8743-9fb9ff4153ce",
   "metadata": {},
   "source": [
    "### **Problem 1**\n",
    "\n",
    "Over the past 60 days, it rained on 18 days.\n",
    "\n",
    "**a.** What is the relative frequency of rain?\n",
    "**b.** Based on this, what’s the estimated probability that it rains tomorrow?\n",
    "**c.** How would more data change your confidence in this estimate?\n",
    "\n",
    "\n",
    "### **Solution 1**\n",
    "\n",
    "**a.** Relative frequency of rain:\n",
    "\n",
    "$$\n",
    "\\frac{18}{60} = 0.3\n",
    "$$\n",
    "\n",
    "So, the relative frequency is **0.3** or **30%**.\n",
    "\n",
    "\n",
    "**b.** Estimated probability that it rains tomorrow:\n",
    "\n",
    "Since we’re using past relative frequency as a probability estimate:\n",
    "\n",
    "$$\n",
    "P(\\text{rain tomorrow}) \\approx 0.3\n",
    "$$\n",
    "\n",
    "\n",
    "**c.** How would more data change your confidence?\n",
    "\n",
    "> With more days of weather data (say, over a year instead of just 60 days), you'd get a **more stable and reliable estimate** of the rain probability. Small datasets can be misleading due to short-term fluctuations, but larger datasets reduce variability and give stronger evidence — this is another example of the **Law of Large Numbers** in action."
   ]
  }
 ],
 "metadata": {
  "kernelspec": {
   "display_name": "Python 3 (ipykernel)",
   "language": "python",
   "name": "python3"
  },
  "language_info": {
   "codemirror_mode": {
    "name": "ipython",
    "version": 3
   },
   "file_extension": ".py",
   "mimetype": "text/x-python",
   "name": "python",
   "nbconvert_exporter": "python",
   "pygments_lexer": "ipython3",
   "version": "3.12.6"
  }
 },
 "nbformat": 4,
 "nbformat_minor": 5
}
