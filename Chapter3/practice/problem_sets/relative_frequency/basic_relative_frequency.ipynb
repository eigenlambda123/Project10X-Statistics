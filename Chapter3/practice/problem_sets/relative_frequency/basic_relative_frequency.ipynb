{
 "cells": [
  {
   "cell_type": "markdown",
   "id": "8051cc4b-631f-4314-bcbf-fa77e67762e0",
   "metadata": {},
   "source": [
    "### **Problem 1**\n",
    "\n",
    "> A coin was flipped 100 times, and it landed on heads 56 times.\n",
    "    \n",
    "**a.** What is the relative frequency of getting heads?\n",
    "**b.** Based on this, what is the relative frequency of getting tails?\n",
    "\n",
    "### **Solution 1**\n",
    "\n",
    "**a.** Relative frequency of getting heads:\n",
    "\n",
    "$$\n",
    "\\frac{\\text{Number of heads}}{\\text{Total trials}} = \\frac{56}{100} = 0.56\n",
    "$$\n",
    "\n",
    "**b.** Relative frequency of getting tails:\n",
    "\n",
    "$$\n",
    "100 - 56 = 44 \\quad \\Rightarrow \\quad \\frac{44}{100} = 0.44\n",
    "$$\n",
    "\n",
    "---\n"
   ]
  },
  {
   "cell_type": "markdown",
   "id": "637be2aa-da8f-4251-9222-8b0d1880f1b2",
   "metadata": {},
   "source": [
    "\n",
    "### **Problem 2**\n",
    "\n",
    "> In a class of 40 students:\n",
    ">\n",
    "> * 12 liked apples\n",
    "> * 18 liked bananas\n",
    "> * 10 liked oranges\n",
    "\n",
    "**a.** What is the relative frequency of students who prefer bananas?\n",
    "**b.** What is the relative frequency of students who don’t prefer apples?\n",
    "\n",
    "### **Solution 2**\n",
    "\n",
    "**a.** Relative frequency of students who prefer bananas:\n",
    "\n",
    "$$\n",
    "\\frac{18}{40} = 0.45\n",
    "$$\n",
    "\n",
    "**b.** Relative frequency of students who don’t prefer apples:\n",
    "\n",
    "$$\n",
    "40 - 12 = 28 \\quad \\Rightarrow \\quad \\frac{28}{40} = 0.7\n",
    "$$"
   ]
  }
 ],
 "metadata": {
  "kernelspec": {
   "display_name": "Python 3 (ipykernel)",
   "language": "python",
   "name": "python3"
  },
  "language_info": {
   "codemirror_mode": {
    "name": "ipython",
    "version": 3
   },
   "file_extension": ".py",
   "mimetype": "text/x-python",
   "name": "python",
   "nbconvert_exporter": "python",
   "pygments_lexer": "ipython3",
   "version": "3.12.6"
  }
 },
 "nbformat": 4,
 "nbformat_minor": 5
}
