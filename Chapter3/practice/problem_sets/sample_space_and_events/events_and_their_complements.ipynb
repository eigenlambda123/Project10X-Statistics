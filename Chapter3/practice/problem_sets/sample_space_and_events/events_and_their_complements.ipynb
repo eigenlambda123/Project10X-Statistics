{
 "cells": [
  {
   "cell_type": "markdown",
   "id": "47a02e0c-4640-4536-af79-e327a5baf5ae",
   "metadata": {},
   "source": [
    "### **Problem 1**\n",
    "> Let $A$ = “rolling an even number.” List all outcomes in $A$.\n",
    "\n",
    "### **Solution 1**\n",
    "\n",
    "Let the **sample space** be:\n",
    "\n",
    "$$\n",
    "S = \\{1, 2, 3, 4, 5, 6\\}\n",
    "$$\n",
    "\n",
    "List all outcomes in $A$:\n",
    "\n",
    "$$\n",
    "A = \\{2, 4, 6\\}\n",
    "$$\n",
    "\n",
    "---"
   ]
  },
  {
   "cell_type": "markdown",
   "id": "fe647318-74c7-4960-a29b-048460ab7663",
   "metadata": {},
   "source": [
    "### **Problem 2**\n",
    "What is $A^c$?\n",
    "\n",
    "### **Solution 2**\n",
    "The complement of $A$ is the set of outcomes in $S$ not in $A$:\n",
    "\n",
    "$$\n",
    "A^c = S \\setminus A = \\{1, 3, 5\\}\n",
    "$$\n",
    "\n",
    "---"
   ]
  },
  {
   "cell_type": "markdown",
   "id": "e2231cb2-e73f-4461-b2a1-cdc50941f5aa",
   "metadata": {},
   "source": [
    "### **Problem 3**\n",
    "Let $B$ = “rolling a number greater than 4.” What are $A \\cap B$ and $A \\cup B$?\n",
    "\n",
    "### **Solution 3**\n",
    "\n",
    "List all outcomes in $B$:\n",
    "\n",
    "$$\n",
    "B = \\{5, 6\\}\n",
    "$$\n",
    "\n",
    "Intersection = outcomes common to both $A$ and $B$:\n",
    "\n",
    "$$\n",
    "A \\cap B = \\{6\\}\n",
    "$$\n",
    "\n",
    "\n",
    "Union = outcomes in either $A$ or $B$ (or both):\n",
    "\n",
    "$$\n",
    "A \\cup B = \\{2, 4, 5, 6\\}\n",
    "$$\n",
    "\n",
    "---\n"
   ]
  },
  {
   "cell_type": "markdown",
   "id": "cfbc2942-7682-40f5-a97b-3ff534cd4318",
   "metadata": {},
   "source": [
    "### **Problem 4**\n",
    "Find $A^c \\cap B$.\n",
    "\n",
    "### **Solution 4**\n",
    "\n",
    "Elements in both $A^c = \\{1, 3, 5\\}$ and $B = \\{5, 6\\}$:\n",
    "\n",
    "$$\n",
    "A^c \\cap B = \\{5\\}\n",
    "$$\n"
   ]
  }
 ],
 "metadata": {
  "kernelspec": {
   "display_name": "Python 3 (ipykernel)",
   "language": "python",
   "name": "python3"
  },
  "language_info": {
   "codemirror_mode": {
    "name": "ipython",
    "version": 3
   },
   "file_extension": ".py",
   "mimetype": "text/x-python",
   "name": "python",
   "nbconvert_exporter": "python",
   "pygments_lexer": "ipython3",
   "version": "3.12.6"
  }
 },
 "nbformat": 4,
 "nbformat_minor": 5
}
