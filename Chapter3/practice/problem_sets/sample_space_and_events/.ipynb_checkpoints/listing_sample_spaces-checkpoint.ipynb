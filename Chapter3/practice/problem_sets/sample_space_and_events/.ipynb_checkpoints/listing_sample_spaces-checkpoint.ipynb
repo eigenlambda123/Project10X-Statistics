{
 "cells": [
  {
   "cell_type": "markdown",
   "id": "ce957b06-846a-4c1d-8e6d-da27f998773b",
   "metadata": {},
   "source": [
    "### **Problem 1**\n",
    "> 1. Toss a fair coin once. What is the sample space?\n",
    "\n",
    "### **Solution 1**\n",
    "\n",
    "$$\n",
    "S = \\{H, T\\}\n",
    "$$\n",
    "\n",
    "---"
   ]
  },
  {
   "cell_type": "markdown",
   "id": "46bd24a7-7918-4736-897f-37b4f89820f8",
   "metadata": {},
   "source": [
    "### **Problem 2**\n",
    "> 2. Toss two coins. List the sample space using:\n",
    "   * Set notation\n",
    "   * Tree diagram\n",
    "\n",
    "### **Solution 2**\n",
    "\n",
    "* **Set notation**:\n",
    "\n",
    "$$\n",
    "S = \\{HH, HT, TH, TT\\}\n",
    "$$\n",
    "\n",
    "* **Tree diagram (optional)**:\n",
    "  You could visualize it like this:\n",
    "\n",
    "```\n",
    "      Toss 1\n",
    "       /  \\\n",
    "     H     T\n",
    "    / \\   / \\\n",
    "   H   T H   T\n",
    "=> HH HT TH TT\n",
    "```\n",
    "\n",
    "---"
   ]
  },
  {
   "cell_type": "markdown",
   "id": "11630ee0-eb8f-41df-8218-a60d824c3990",
   "metadata": {},
   "source": [
    "### **Problem 3**\n",
    "> 3. Roll a six-sided die. What’s the sample space?\n",
    "\n",
    "### **Solution 3**\n",
    "\n",
    "$$\n",
    "S = \\{1, 2, 3, 4, 5, 6\\}\n",
    "$$\n",
    "\n",
    "---"
   ]
  },
  {
   "cell_type": "markdown",
   "id": "d6f50e17-bf89-437f-bcbb-9c1ccd5daed2",
   "metadata": {},
   "source": [
    "### **Problem 4**\n",
    "> 4. A family has two children. List all possible gender combinations.\n",
    "\n",
    "### **Solution 4**\n",
    "\n",
    "Assume:\n",
    "\n",
    "* B = Boy\n",
    "* G = Girl\n",
    "* Order matters (older child first)\n",
    "\n",
    "$$\n",
    "S = \\{BB, BG, GB, GG\\}\n",
    "$$"
   ]
  }
 ],
 "metadata": {
  "kernelspec": {
   "display_name": "Python 3 (ipykernel)",
   "language": "python",
   "name": "python3"
  },
  "language_info": {
   "codemirror_mode": {
    "name": "ipython",
    "version": 3
   },
   "file_extension": ".py",
   "mimetype": "text/x-python",
   "name": "python",
   "nbconvert_exporter": "python",
   "pygments_lexer": "ipython3",
   "version": "3.12.6"
  }
 },
 "nbformat": 4,
 "nbformat_minor": 5
}
