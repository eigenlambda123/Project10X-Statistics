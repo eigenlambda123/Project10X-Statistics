{
 "cells": [
  {
   "cell_type": "code",
   "execution_count": 16,
   "id": "5adb24e5-cfb7-4ee7-83b7-f9c13382574a",
   "metadata": {},
   "outputs": [],
   "source": [
    "import numpy as np"
   ]
  },
  {
   "cell_type": "markdown",
   "id": "2ce63b13-4c33-4300-b5d6-409210e707ad",
   "metadata": {},
   "source": [
    "### **Binomial Distribution**"
   ]
  },
  {
   "cell_type": "code",
   "execution_count": 26,
   "id": "13f57d42-d698-45c7-a258-11aff2308d18",
   "metadata": {},
   "outputs": [],
   "source": [
    "def simulate_binomial(n_trials, p, n_experiment, target):\n",
    "    results = []\n",
    "    for _ in range(n_experiments):\n",
    "        flips = np.random.rand(n_trials) < p\n",
    "        successes = flips.sum()\n",
    "        results.append(successes)\n",
    "\n",
    "    results = np.array(results)\n",
    "\n",
    "    if target is not None:\n",
    "        estimate = np.mean(results == target)\n",
    "        print(f\"Estimated P(X = {target}) ≈ {estimate:.4f}\")\n",
    "        return results, estimate\n",
    "\n",
    "    return results"
   ]
  },
  {
   "cell_type": "markdown",
   "id": "1b77c412-801b-4c41-9b6c-7da9cb6d340b",
   "metadata": {},
   "source": [
    "### **Geometric Distribution**"
   ]
  },
  {
   "cell_type": "code",
   "execution_count": 27,
   "id": "1bc52f69-57a1-4b92-9d9e-9257251f248d",
   "metadata": {},
   "outputs": [],
   "source": [
    "def simulate_geometric(p, n_experiments, target):\n",
    "    results = []\n",
    "    for _ in range(n_experiments):\n",
    "        count = 1\n",
    "        while np.random.rand() > p:\n",
    "            count += 1\n",
    "        results.append(count)\n",
    "\n",
    "    results = np.array(results)\n",
    "\n",
    "    if target is not None:\n",
    "        estimate = np.mean(results == target)\n",
    "        print(f\"Estimated P(X = {target}) ≈ {estimate:.4f}\")\n",
    "        return results, estimate\n",
    "\n",
    "    return results"
   ]
  },
  {
   "cell_type": "markdown",
   "id": "42d71d20-58cb-491e-85e7-843ad7a0932d",
   "metadata": {},
   "source": [
    "### **Poisson Distribution**"
   ]
  },
  {
   "cell_type": "code",
   "execution_count": 28,
   "id": "a32d1c83-2939-4f0a-95e8-59085d0727fb",
   "metadata": {},
   "outputs": [],
   "source": [
    "def simulate_poisson(lam, interval_time, n_experiments, target):\n",
    "    results = []\n",
    "    for _ in range(n_experiments):\n",
    "        time = 0\n",
    "        count = 0\n",
    "        while time < interval_time:\n",
    "            interarrival = np.random.exponential(scale=1 / lam)\n",
    "            time += interarrival\n",
    "            if time < interval_time:\n",
    "                count += 1\n",
    "        results.append(count)\n",
    "\n",
    "    results = np.array(results)\n",
    "\n",
    "    if target is not None:\n",
    "        estimate = np.mean(results == target)\n",
    "        print(f\"Estimated P(X = {target}) ≈ {estimate:.4f}\")\n",
    "        return results, estimate\n",
    "\n",
    "    return results"
   ]
  },
  {
   "cell_type": "markdown",
   "id": "eacf25d5-db3a-44fb-816d-bcaa14fd1c65",
   "metadata": {},
   "source": [
    "### **Main Menu**"
   ]
  },
  {
   "cell_type": "code",
   "execution_count": 29,
   "id": "06b12b33-1a31-4318-b702-c62124b0c979",
   "metadata": {},
   "outputs": [
    {
     "name": "stdout",
     "output_type": "stream",
     "text": [
      "Discrete Distribution Simulator\n",
      "Select a distribution to simulate:\n",
      "\n",
      "1. Binomial Distribution\n",
      "2. Geometric Distribution\n",
      "3. Poisson Distribution\n"
     ]
    },
    {
     "name": "stdin",
     "output_type": "stream",
     "text": [
      "Enter your choice (1/2/3):  3\n"
     ]
    },
    {
     "name": "stdout",
     "output_type": "stream",
     "text": [
      "\n",
      "Poisson Simulator\n"
     ]
    },
    {
     "name": "stdin",
     "output_type": "stream",
     "text": [
      "Enter average rate (λ):  5\n",
      "Enter interval length (e.g., 1.0):  1\n",
      "Enter number of simulations:  10000\n",
      "Enter desired number of events in interval:  5\n"
     ]
    },
    {
     "name": "stdout",
     "output_type": "stream",
     "text": [
      "Estimated P(X = 5) ≈ 0.1771\n"
     ]
    }
   ],
   "source": [
    "def main_menu():\n",
    "    print(\"Discrete Distribution Simulator\")\n",
    "    print(\"Select a distribution to simulate:\\n\")\n",
    "    print(\"1. Binomial Distribution\")\n",
    "    print(\"2. Geometric Distribution\")\n",
    "    print(\"3. Poisson Distribution\")\n",
    "\n",
    "    choice = input(\"Enter your choice (1/2/3): \")\n",
    "\n",
    "    if choice == \"1\":\n",
    "        print(\"\\nBinomial Simulator\")\n",
    "        n_trials = int(input(\"Enter number of trials (n): \"))\n",
    "        p = float(input(\"Enter success probability (p): \"))\n",
    "        n_experiments = int(input(\"Enter number of simulations: \"))\n",
    "        target = int(input(\"Enter desired number of successes: \"))\n",
    "        simulate_binomial(n_trials, p, n_experiments, target)\n",
    "\n",
    "    elif choice == \"2\":\n",
    "        print(\"\\nGeometric Simulator\")\n",
    "        p = float(input(\"Enter success probability (p): \"))\n",
    "        n_experiments = int(input(\"Enter number of simulations: \"))\n",
    "        target = int(input(\"Enter desired trial for first success: \"))\n",
    "        simulate_geometric(p, n_experiments, target)\n",
    "\n",
    "    elif choice == \"3\":\n",
    "        print(\"\\nPoisson Simulator\")\n",
    "        lam = float(input(\"Enter average rate (λ): \"))\n",
    "        interval = float(input(\"Enter interval length (e.g., 1.0): \"))\n",
    "        n_experiments = int(input(\"Enter number of simulations: \"))\n",
    "        target = int(input(\"Enter desired number of events in interval: \"))\n",
    "        simulate_poisson(lam, interval, n_experiments, target)\n",
    "\n",
    "    else:\n",
    "        print(\"Invalid choice. Please select 1, 2, or 3.\")\n",
    "\n",
    "# Run the menu\n",
    "main_menu()"
   ]
  }
 ],
 "metadata": {
  "kernelspec": {
   "display_name": "Python 3 (ipykernel)",
   "language": "python",
   "name": "python3"
  },
  "language_info": {
   "codemirror_mode": {
    "name": "ipython",
    "version": 3
   },
   "file_extension": ".py",
   "mimetype": "text/x-python",
   "name": "python",
   "nbconvert_exporter": "python",
   "pygments_lexer": "ipython3",
   "version": "3.12.6"
  }
 },
 "nbformat": 4,
 "nbformat_minor": 5
}
