{
 "cells": [
  {
   "cell_type": "code",
   "execution_count": 31,
   "id": "d2e86c43-1f26-43b9-9a35-9d9ec5d1aa9c",
   "metadata": {},
   "outputs": [],
   "source": [
    "import pandas as pd\n",
    "df = pd.read_csv('../datasets/Sleep_Efficiency.csv')\n",
    "df2 = pd.read_csv('../datasets/Mental_Health_Lifestyle_Dataset.csv')\n",
    "ages = df['Age']\n",
    "ages2 = df2['Age']"
   ]
  },
  {
   "cell_type": "markdown",
   "id": "cf9b786d-d961-43ff-8461-26cdfd3fc1aa",
   "metadata": {},
   "source": [
    "### Exclusive"
   ]
  },
  {
   "cell_type": "code",
   "execution_count": 38,
   "id": "1b98bbec-662d-41a8-855b-a9160770a468",
   "metadata": {},
   "outputs": [
    {
     "name": "stdout",
     "output_type": "stream",
     "text": [
      "23.0\n"
     ]
    }
   ],
   "source": [
    "def median(data):\n",
    "    data = sorted(data)\n",
    "    midpoint = len(data)//2\n",
    "\n",
    "     # return median of half data\n",
    "    if len(data)%2==0:\n",
    "        return (data[midpoint]+data[midpoint+1])/2\n",
    "    else:\n",
    "        return data[midpoint] \n",
    "        \n",
    "\n",
    "\n",
    "def exclusive_iqr(value):\n",
    "    data = sorted(value)\n",
    "    midpoint = len(value)//2\n",
    "\n",
    "    # Split the data\n",
    "    if len(value)%2==0:\n",
    "        lower_half = data[:midpoint]\n",
    "        upper_half = data[midpoint:]\n",
    "    else:\n",
    "        lower_half = data[:midpoint]\n",
    "        upper_half = data[midpoint+1:]\n",
    "\n",
    "    # Get median of split data\n",
    "    Q1 = median(lower_half)\n",
    "    Q3 = median(upper_half)\n",
    "\n",
    "    # return IQR exclusive\n",
    "    return Q3 - Q1\n",
    "\n",
    "print(exclusive_iqr(ages))"
   ]
  },
  {
   "cell_type": "code",
   "execution_count": 37,
   "id": "fb3344f3-8324-4050-8fa5-d5072b54060e",
   "metadata": {},
   "outputs": [
    {
     "name": "stdout",
     "output_type": "stream",
     "text": [
      "23.0\n"
     ]
    }
   ],
   "source": [
    "import numpy as np\n",
    "\n",
    "def inclusive_iqr(value):\n",
    "    data = sorted(value)\n",
    "    midpoint = len(value)//2\n",
    "\n",
    "    # Step 1: Find the median\n",
    "    median = np.median(data)\n",
    "\n",
    "    # Step 2: Include the median in both halves\n",
    "    if len(data) % 2 == 0:\n",
    "        lower_half = data[:midpoint]\n",
    "        upper_half = data[midpoint:]\n",
    "    else:\n",
    "        lower_half = data[:midpoint + 1]   # includes the median\n",
    "        upper_half = data[midpoint:]       # includes the median\n",
    "\n",
    "    # Step 3: Find Q1 and Q3\n",
    "    Q1 = np.median(lower_half)\n",
    "    Q3 = np.median(upper_half)\n",
    "\n",
    "    return Q3 - Q1\n",
    "\n",
    "print(inclusive_iqr(ages))"
   ]
  }
 ],
 "metadata": {
  "kernelspec": {
   "display_name": "Python 3 (ipykernel)",
   "language": "python",
   "name": "python3"
  },
  "language_info": {
   "codemirror_mode": {
    "name": "ipython",
    "version": 3
   },
   "file_extension": ".py",
   "mimetype": "text/x-python",
   "name": "python",
   "nbconvert_exporter": "python",
   "pygments_lexer": "ipython3",
   "version": "3.12.6"
  }
 },
 "nbformat": 4,
 "nbformat_minor": 5
}
