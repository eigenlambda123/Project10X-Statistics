{
 "cells": [
  {
   "cell_type": "code",
   "execution_count": null,
   "id": "55a2de98-cfbe-4eb7-8a3d-2800bdc4d03b",
   "metadata": {},
   "outputs": [],
   "source": [
    "# Reading Dataset"
   ]
  },
  {
   "cell_type": "code",
   "execution_count": null,
   "id": "8f6ac8d6-a157-40c3-aa0f-6b94b067d1ed",
   "metadata": {},
   "outputs": [],
   "source": []
  },
  {
   "cell_type": "code",
   "execution_count": null,
   "id": "fa636ca1-083b-43e9-b371-1eccd348aed3",
   "metadata": {},
   "outputs": [],
   "source": [
    "# Mean vs Median Vs Mode"
   ]
  }
 ],
 "metadata": {
  "kernelspec": {
   "display_name": "Python 3 (ipykernel)",
   "language": "python",
   "name": "python3"
  },
  "language_info": {
   "codemirror_mode": {
    "name": "ipython",
    "version": 3
   },
   "file_extension": ".py",
   "mimetype": "text/x-python",
   "name": "python",
   "nbconvert_exporter": "python",
   "pygments_lexer": "ipython3",
   "version": "3.12.6"
  }
 },
 "nbformat": 4,
 "nbformat_minor": 5
}
