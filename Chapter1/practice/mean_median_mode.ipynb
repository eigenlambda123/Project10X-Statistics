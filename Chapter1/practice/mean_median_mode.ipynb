{
 "cells": [
  {
   "cell_type": "code",
   "execution_count": 8,
   "id": "2ed0b1c6-ee9f-4c69-bca9-7c1e8c40de43",
   "metadata": {},
   "outputs": [],
   "source": [
    "import pandas as pd\n",
    "df = pd.read_csv('../datasets/Sleep_Efficiency.csv')"
   ]
  },
  {
   "cell_type": "markdown",
   "id": "3b6de284-fbd5-46cd-956e-bae21a6ca2f7",
   "metadata": {},
   "source": [
    "### Calculate Mean"
   ]
  },
  {
   "cell_type": "code",
   "execution_count": 9,
   "id": "2c3cd97b-7e01-429c-b139-2a7e57818244",
   "metadata": {},
   "outputs": [
    {
     "name": "stdout",
     "output_type": "stream",
     "text": [
      "40.2853982300885\n"
     ]
    },
    {
     "data": {
      "text/plain": [
       "np.float64(40.2853982300885)"
      ]
     },
     "execution_count": 9,
     "metadata": {},
     "output_type": "execute_result"
    }
   ],
   "source": [
    "# Calculate Mean\n",
    "ages = df['Age']\n",
    "def calculate_mean(value):\n",
    "    total = 0\n",
    "    for val in value:\n",
    "        total += val\n",
    "    return total / len(value)\n",
    "\n",
    "print(calculate_mean(ages))\n",
    "ages.mean() # Confirm"
   ]
  },
  {
   "cell_type": "markdown",
   "id": "52038342-c203-4fa6-948a-9183cb37d0c9",
   "metadata": {},
   "source": [
    "### Calculate Median"
   ]
  },
  {
   "cell_type": "code",
   "execution_count": 10,
   "id": "33ba6652-14f4-4f9b-ba45-809c00df2218",
   "metadata": {},
   "outputs": [
    {
     "name": "stdout",
     "output_type": "stream",
     "text": [
      "40.0\n"
     ]
    },
    {
     "data": {
      "text/plain": [
       "np.float64(40.0)"
      ]
     },
     "execution_count": 10,
     "metadata": {},
     "output_type": "execute_result"
    }
   ],
   "source": [
    "def calculate_median(values):\n",
    "    sorted_values = sorted(values)  # returns a sorted list\n",
    "    n = len(sorted_values)\n",
    "    midpoint = n // 2\n",
    "\n",
    "    if n % 2 == 1:\n",
    "        # Odd number of elements\n",
    "        return sorted_values[midpoint]\n",
    "    else:\n",
    "        # Even number of elements\n",
    "        return (sorted_values[midpoint - 1] + sorted_values[midpoint]) / 2\n",
    "\n",
    "print(calculate_median(ages))\n",
    "ages.median()"
   ]
  },
  {
   "cell_type": "markdown",
   "id": "f0ba0e1b-1185-4c7e-bb5c-03fc1c347081",
   "metadata": {},
   "source": [
    "### Calculate Mode"
   ]
  },
  {
   "cell_type": "code",
   "execution_count": 21,
   "id": "1f689151-8e0f-44c9-8fa0-e3128072f4f3",
   "metadata": {},
   "outputs": [
    {
     "name": "stdout",
     "output_type": "stream",
     "text": [
      "[27, 52]\n"
     ]
    },
    {
     "data": {
      "text/plain": [
       "0    27\n",
       "1    52\n",
       "Name: Age, dtype: int64"
      ]
     },
     "execution_count": 21,
     "metadata": {},
     "output_type": "execute_result"
    }
   ],
   "source": [
    "def calculate_mode(values):\n",
    "    counter = {}\n",
    "    for val in values:\n",
    "        if val in counter:\n",
    "            counter[val] += 1\n",
    "        else:\n",
    "            counter[val] = 1\n",
    "\n",
    "    max_count = max(counter.values())\n",
    "    modes = [k for k, v in counter.items() if v == max_count] # collect all values (modes) with same frequency\n",
    "    return modes\n",
    "\n",
    "print(calculate_mode(ages))\n",
    "ages.mode()"
   ]
  }
 ],
 "metadata": {
  "kernelspec": {
   "display_name": "Python 3 (ipykernel)",
   "language": "python",
   "name": "python3"
  },
  "language_info": {
   "codemirror_mode": {
    "name": "ipython",
    "version": 3
   },
   "file_extension": ".py",
   "mimetype": "text/x-python",
   "name": "python",
   "nbconvert_exporter": "python",
   "pygments_lexer": "ipython3",
   "version": "3.12.6"
  }
 },
 "nbformat": 4,
 "nbformat_minor": 5
}
