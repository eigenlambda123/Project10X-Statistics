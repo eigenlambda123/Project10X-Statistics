{
 "cells": [
  {
   "cell_type": "code",
   "execution_count": 1,
   "id": "39f453ea-e026-457e-ac7c-6b0dd7937386",
   "metadata": {},
   "outputs": [],
   "source": [
    "import pandas as pd\n",
    "df = pd.read_csv('../datasets/Sleep_Efficiency.csv')"
   ]
  },
  {
   "cell_type": "markdown",
   "id": "8340842a-792e-485e-b8b4-82a1bc63e96f",
   "metadata": {},
   "source": [
    "### Range"
   ]
  },
  {
   "cell_type": "code",
   "execution_count": 9,
   "id": "743bab2b-f5d5-4930-8625-def3391252b0",
   "metadata": {},
   "outputs": [
    {
     "name": "stdout",
     "output_type": "stream",
     "text": [
      "60\n"
     ]
    }
   ],
   "source": [
    "ages = df['Age']\n",
    "\n",
    "def calculate_range(value):\n",
    "    return (max(value) - min(value))\n",
    "\n",
    "print(calculate_range(ages))"
   ]
  },
  {
   "cell_type": "markdown",
   "id": "88518276-4691-4d47-bf50-2a4a5db1d5ca",
   "metadata": {},
   "source": [
    "### Standard Deviation"
   ]
  },
  {
   "cell_type": "code",
   "execution_count": 16,
   "id": "47bd4e76-6881-426f-9b60-e381f147f6b7",
   "metadata": {},
   "outputs": [
    {
     "name": "stdout",
     "output_type": "stream",
     "text": [
      "13.172249909954074\n"
     ]
    }
   ],
   "source": [
    "import math\n",
    "\n",
    "def standard_deviation(values):\n",
    "    mean = sum(values) / len(values)\n",
    "    squared_diffs = [(x - mean) ** 2 for x in values]\n",
    "    variance = sum(squared_diffs) / (len(values) - 1)\n",
    "    return math.sqrt(variance)\n",
    "\n",
    "print(standard_deviation(ages))"
   ]
  },
  {
   "cell_type": "markdown",
   "id": "dd485b9c-a30d-4f92-8665-ebe38f8c8e02",
   "metadata": {},
   "source": [
    "### Variance"
   ]
  },
  {
   "cell_type": "code",
   "execution_count": 17,
   "id": "0422d649-dfe1-4047-94c4-a416852f5512",
   "metadata": {},
   "outputs": [
    {
     "name": "stdout",
     "output_type": "stream",
     "text": [
      "173.5081676902851\n"
     ]
    }
   ],
   "source": [
    "standard_deviation = standard_deviation(ages)\n",
    "variance = standard_deviation**2\n",
    "print(variance)"
   ]
  },
  {
   "cell_type": "code",
   "execution_count": null,
   "id": "b7c04e45-9382-4579-bbe9-5b2e37fcf3ce",
   "metadata": {},
   "outputs": [],
   "source": []
  }
 ],
 "metadata": {
  "kernelspec": {
   "display_name": "Python 3 (ipykernel)",
   "language": "python",
   "name": "python3"
  },
  "language_info": {
   "codemirror_mode": {
    "name": "ipython",
    "version": 3
   },
   "file_extension": ".py",
   "mimetype": "text/x-python",
   "name": "python",
   "nbconvert_exporter": "python",
   "pygments_lexer": "ipython3",
   "version": "3.12.6"
  }
 },
 "nbformat": 4,
 "nbformat_minor": 5
}
