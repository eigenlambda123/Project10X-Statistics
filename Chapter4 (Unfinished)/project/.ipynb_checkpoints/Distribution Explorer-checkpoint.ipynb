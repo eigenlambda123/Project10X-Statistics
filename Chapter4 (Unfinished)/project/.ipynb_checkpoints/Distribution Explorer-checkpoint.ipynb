{
 "cells": [
  {
   "cell_type": "code",
   "execution_count": 19,
   "id": "5adb24e5-cfb7-4ee7-83b7-f9c13382574a",
   "metadata": {},
   "outputs": [],
   "source": [
    "import numpy as np\n",
    "import matplotlib.pyplot as plt\n",
    "from scipy.stats import binom, geom, poisson"
   ]
  },
  {
   "cell_type": "markdown",
   "id": "2ce63b13-4c33-4300-b5d6-409210e707ad",
   "metadata": {},
   "source": [
    "---\n",
    "### Binomial Distribution\n"
   ]
  },
  {
   "cell_type": "code",
   "execution_count": 20,
   "id": "13f57d42-d698-45c7-a258-11aff2308d18",
   "metadata": {},
   "outputs": [],
   "source": [
    "def simulate_binomial(n_trials, p, n_experiment, target):\n",
    "    results = []\n",
    "    for _ in range(n_experiments):\n",
    "        flips = np.random.rand(n_trials) < p\n",
    "        successes = flips.sum()\n",
    "        results.append(successes)\n",
    "\n",
    "    results = np.array(results)\n",
    "\n",
    "    if target is not None:\n",
    "        estimate = np.mean(results == target)\n",
    "        print(f\"Estimated P(X = {target}) ≈ {estimate:.4f}\")\n",
    "        return results, estimate\n",
    "\n",
    "    return results"
   ]
  },
  {
   "cell_type": "markdown",
   "id": "1b77c412-801b-4c41-9b6c-7da9cb6d340b",
   "metadata": {},
   "source": [
    "---\n",
    "### Geometric Distribution"
   ]
  },
  {
   "cell_type": "code",
   "execution_count": 21,
   "id": "1bc52f69-57a1-4b92-9d9e-9257251f248d",
   "metadata": {},
   "outputs": [],
   "source": [
    "def simulate_geometric(p, n_experiments, target):\n",
    "    results = []\n",
    "    for _ in range(n_experiments):\n",
    "        count = 1\n",
    "        while np.random.rand() > p:\n",
    "            count += 1\n",
    "        results.append(count)\n",
    "\n",
    "    results = np.array(results)\n",
    "\n",
    "    if target is not None:\n",
    "        estimate = np.mean(results == target)\n",
    "        print(f\"Estimated P(X = {target}) ≈ {estimate:.4f}\")\n",
    "        return results, estimate\n",
    "\n",
    "    return results"
   ]
  },
  {
   "cell_type": "markdown",
   "id": "42d71d20-58cb-491e-85e7-843ad7a0932d",
   "metadata": {},
   "source": [
    "---\n",
    "### Poisson Distribution"
   ]
  },
  {
   "cell_type": "code",
   "execution_count": 22,
   "id": "a32d1c83-2939-4f0a-95e8-59085d0727fb",
   "metadata": {},
   "outputs": [],
   "source": [
    "def simulate_poisson(lam, interval_time, n_experiments, target):\n",
    "    results = []\n",
    "    for _ in range(n_experiments):\n",
    "        time = 0\n",
    "        count = 0\n",
    "        while time < interval_time:\n",
    "            interarrival = np.random.exponential(scale=1 / lam)\n",
    "            time += interarrival\n",
    "            if time < interval_time:\n",
    "                count += 1\n",
    "        results.append(count)\n",
    "\n",
    "    results = np.array(results)\n",
    "\n",
    "    if target is not None:\n",
    "        estimate = np.mean(results == target)\n",
    "        print(f\"Estimated P(X = {target}) ≈ {estimate:.4f}\")\n",
    "        return results, estimate\n",
    "\n",
    "    return results"
   ]
  },
  {
   "cell_type": "markdown",
   "id": "6fa709f6-2669-4cc3-96ef-de133cea6807",
   "metadata": {},
   "source": [
    "---\n",
    "### Visualizer"
   ]
  },
  {
   "cell_type": "code",
   "execution_count": 41,
   "id": "15292ec7-0172-4be5-95e5-2a8a4b7374cb",
   "metadata": {},
   "outputs": [],
   "source": [
    "def plot_simulated_vs_theoretical(data, dist_name, pmf_func, x_range, title, **pmf_kwargs):\n",
    "    plt.figure(figsize=(8, 5))\n",
    "    \n",
    "    # Plot histogram of simulation\n",
    "    plt.hist(data, bins=np.arange(min(data), max(data) + 2) - 0.5,\n",
    "             density=True, alpha=0.6, color='skyblue', edgecolor='black', label='Simulated')\n",
    "\n",
    "    # Overlay theoretical PMF\n",
    "    x = np.arange(x_range[0], x_range[1])\n",
    "    pmf = pmf_func(x, **pmf_kwargs)\n",
    "    plt.plot(x, pmf, 'o-', color='red', label='Theoretical PMF')\n",
    "\n",
    "    # Labels and titles\n",
    "    plt.title(f\"{title} (Sample Size = {len(data)})\")\n",
    "    plt.xlabel('Value')\n",
    "    plt.ylabel('Probability')\n",
    "    plt.legend()\n",
    "    plt.grid(True)\n",
    "    plt.tight_layout()\n",
    "    plt.show()"
   ]
  },
  {
   "cell_type": "markdown",
   "id": "6e1a6f57-b23d-4811-be9b-7a4e34e4a25d",
   "metadata": {},
   "source": [
    "---\n",
    "### Analyzer"
   ]
  },
  {
   "cell_type": "code",
   "execution_count": 43,
   "id": "db5f85ef-6c46-4a6a-bc8c-6ce32aa3f936",
   "metadata": {},
   "outputs": [],
   "source": [
    "def analyze_distribution(data, dist_name, theoretical_mean, theoretical_var):\n",
    "    empirical_mean = np.mean(data)\n",
    "    empirical_var = np.var(data)\n",
    "    \n",
    "    print(f\"--- {dist_name} Analysis ---\")\n",
    "    print(f\"Theoretical Mean: {theoretical_mean}\")\n",
    "    print(f\"Empirical Mean:   {empirical_mean:.4f}\")\n",
    "    print(f\"Theoretical Variance: {theoretical_var}\")\n",
    "    print(f\"Empirical Variance:   {empirical_var:.4f}\")\n",
    "\n",
    "    if empirical_mean > theoretical_mean:\n",
    "        skew_comment = \"Right-skewed (long tail to the right)\"\n",
    "    elif empirical_mean < theoretical_mean:\n",
    "        skew_comment = \"Left-skewed (long tail to the left)\"\n",
    "    else:\n",
    "        skew_comment = \"Symmetric\"\n",
    "\n",
    "    print(f\"Shape Insight: {skew_comment}\")\n",
    "    print()"
   ]
  },
  {
   "cell_type": "markdown",
   "id": "eacf25d5-db3a-44fb-816d-bcaa14fd1c65",
   "metadata": {},
   "source": [
    "---\n",
    "### Main Menu"
   ]
  },
  {
   "cell_type": "code",
   "execution_count": 45,
   "id": "06b12b33-1a31-4318-b702-c62124b0c979",
   "metadata": {},
   "outputs": [
    {
     "name": "stdout",
     "output_type": "stream",
     "text": [
      "Discrete Distribution Simulator\n",
      "Select a distribution to simulate:\n",
      "\n",
      "1. Binomial Distribution\n",
      "2. Geometric Distribution\n",
      "3. Poisson Distribution\n",
      "4. Visualize and Compare (Simulated vs Theoretical) + Analysis\n"
     ]
    },
    {
     "name": "stdin",
     "output_type": "stream",
     "text": [
      "Enter your choice (1/2/3/4):  5\n"
     ]
    },
    {
     "name": "stdout",
     "output_type": "stream",
     "text": [
      "Invalid choice. Please select 1, 2, 3, or 4.\n"
     ]
    }
   ],
   "source": [
    "def main_menu():\n",
    "    print(\"Discrete Distribution Simulator\")\n",
    "    print(\"Select a distribution to simulate:\\n\")\n",
    "    print(\"1. Binomial Distribution\")\n",
    "    print(\"2. Geometric Distribution\")\n",
    "    print(\"3. Poisson Distribution\")\n",
    "    print(\"4. Visualize and Compare (Simulated vs Theoretical) + Analysis\")  # Updated description\n",
    "\n",
    "    choice = input(\"Enter your choice (1/2/3/4): \")\n",
    "\n",
    "    if choice == \"1\":\n",
    "        print(\"\\nBinomial Simulator\")\n",
    "        n_trials = int(input(\"Enter number of trials (n): \"))\n",
    "        p = float(input(\"Enter success probability (p): \"))\n",
    "        n_experiments = int(input(\"Enter number of simulations: \"))\n",
    "        target = int(input(\"Enter desired number of successes: \"))\n",
    "        simulate_binomial(n_trials, p, n_experiments, target)\n",
    "\n",
    "    elif choice == \"2\":\n",
    "        print(\"\\nGeometric Simulator\")\n",
    "        p = float(input(\"Enter success probability (p): \"))\n",
    "        n_experiments = int(input(\"Enter number of simulations: \"))\n",
    "        target = int(input(\"Enter desired trial for first success: \"))\n",
    "        simulate_geometric(p, n_experiments, target)\n",
    "\n",
    "    elif choice == \"3\":\n",
    "        print(\"\\nPoisson Simulator\")\n",
    "        lam = float(input(\"Enter average rate (λ): \"))\n",
    "        interval = float(input(\"Enter interval length (e.g., 1.0): \"))\n",
    "        n_experiments = int(input(\"Enter number of simulations: \"))\n",
    "        target = int(input(\"Enter desired number of events in interval: \"))\n",
    "        simulate_poisson(lam, interval, n_experiments, target)\n",
    "\n",
    "    elif choice == \"4\":\n",
    "        print(\"\\nVisualizing all 3 distributions with overlays and running analysis...\")\n",
    "        sample_size = int(input(\"Enter sample size for simulation (e.g., 1000): \"))\n",
    "\n",
    "        # Binomial Inputs\n",
    "        print(\"\\n--- Binomial Distribution ---\")\n",
    "        n_binom = int(input(\"Enter number of trials (n): \"))\n",
    "        p_binom = float(input(\"Enter success probability (p): \"))\n",
    "        binom_data = np.random.binomial(n=n_binom, p=p_binom, size=sample_size)\n",
    "        plot_simulated_vs_theoretical(\n",
    "            binom_data,\n",
    "            \"Binomial\",\n",
    "            binom.pmf,\n",
    "            x_range=(0, n_binom + 1),\n",
    "            title=f\"Binomial Distribution (n={n_binom}, p={p_binom})\",\n",
    "            n=n_binom,\n",
    "            p=p_binom\n",
    "        )\n",
    "        analyze_distribution(\n",
    "            binom_data,\n",
    "            \"Binomial\",\n",
    "            theoretical_mean=n_binom * p_binom,\n",
    "            theoretical_var=n_binom * p_binom * (1 - p_binom)\n",
    "        )\n",
    "\n",
    "        # Geometric Inputs\n",
    "        print(\"\\n--- Geometric Distribution ---\")\n",
    "        p_geom = float(input(\"Enter success probability (p): \"))\n",
    "        geom_data = np.random.geometric(p=p_geom, size=sample_size)\n",
    "        geom_max = min(np.max(geom_data) + 1, 30)\n",
    "        plot_simulated_vs_theoretical(\n",
    "            geom_data,\n",
    "            \"Geometric\",\n",
    "            geom.pmf,\n",
    "            x_range=(1, geom_max),\n",
    "            title=f\"Geometric Distribution (p={p_geom})\",\n",
    "            p=p_geom\n",
    "        )\n",
    "        geom_mean = 1 / p_geom\n",
    "        geom_var = (1 - p_geom) / (p_geom ** 2)\n",
    "        analyze_distribution(\n",
    "            geom_data,\n",
    "            \"Geometric\",\n",
    "            theoretical_mean=geom_mean,\n",
    "            theoretical_var=geom_var\n",
    "        )\n",
    "\n",
    "        # Poisson Inputs\n",
    "        print(\"\\n--- Poisson Distribution ---\")\n",
    "        lam_poisson = float(input(\"Enter average rate (λ): \"))\n",
    "        k_target = int(input(\"Enter desired number of events (k): \"))\n",
    "        poisson_data = np.random.poisson(lam=lam_poisson, size=sample_size)\n",
    "        upper_bound = min(int(np.max(poisson_data) + 5), int(lam_poisson * 3.5))\n",
    "        plot_simulated_vs_theoretical(\n",
    "            poisson_data,\n",
    "            \"Poisson\",\n",
    "            poisson.pmf,\n",
    "            x_range=(0, upper_bound),\n",
    "            title=f\"Poisson Distribution (λ={lam_poisson})\",\n",
    "            mu=lam_poisson\n",
    "        )\n",
    "        prob_k = poisson.pmf(k_target, mu=lam_poisson)\n",
    "        print(f\"\\nP(X = {k_target}) = {prob_k:.5f}\")\n",
    "        analyze_distribution(\n",
    "            poisson_data,\n",
    "            \"Poisson\",\n",
    "            theoretical_mean=lam_poisson,\n",
    "            theoretical_var=lam_poisson\n",
    "        )\n",
    "    \n",
    "    else:\n",
    "        print(\"Invalid choice. Please select 1, 2, 3, or 4.\")\n",
    "\n",
    "main_menu()"
   ]
  }
 ],
 "metadata": {
  "kernelspec": {
   "display_name": "Python 3 (ipykernel)",
   "language": "python",
   "name": "python3"
  },
  "language_info": {
   "codemirror_mode": {
    "name": "ipython",
    "version": 3
   },
   "file_extension": ".py",
   "mimetype": "text/x-python",
   "name": "python",
   "nbconvert_exporter": "python",
   "pygments_lexer": "ipython3",
   "version": "3.12.6"
  }
 },
 "nbformat": 4,
 "nbformat_minor": 5
}
