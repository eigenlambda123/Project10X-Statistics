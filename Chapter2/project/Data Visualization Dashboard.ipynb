{
 "cells": [
  {
   "cell_type": "code",
   "execution_count": 24,
   "id": "43a64dd8-7a53-4f90-b2f6-81781805fce4",
   "metadata": {},
   "outputs": [],
   "source": [
    "import pandas as pd\n",
    "import seaborn as sns\n",
    "import matplotlib.pyplot as plt"
   ]
  },
  {
   "cell_type": "markdown",
   "id": "95452be6-24a4-4d46-a21f-254dacfa1dcf",
   "metadata": {},
   "source": [
    "### Univariate"
   ]
  },
  {
   "cell_type": "code",
   "execution_count": 25,
   "id": "225481fa-cdf2-485e-a278-c04082b0fbca",
   "metadata": {},
   "outputs": [],
   "source": [
    "class Univariate:\n",
    "    def __init__(self, data):\n",
    "        self.data = data\n",
    "\n",
    "    def histogram(self, column):\n",
    "        sns.histplot(self.data[column], kde=True)\n",
    "        plt.title(f'Distribution of {column}')\n",
    "        plt.xlabel(column)\n",
    "        plt.ylabel('Frequency')\n",
    "        plt.tight_layout()\n",
    "        plt.show()\n",
    "\n",
    "    def box_plot(self, column):\n",
    "        sns.boxplot(y=self.data[column])\n",
    "        plt.title(f'Box Plot of {column}')\n",
    "        plt.ylabel(column)\n",
    "        plt.tight_layout()\n",
    "        plt.show()\n",
    "\n",
    "    def bar_chart(self, column):\n",
    "        sns.countplot(x=column, data=self.data)\n",
    "        plt.title(f'Distribution of {column}')\n",
    "        plt.xlabel(column)\n",
    "        plt.ylabel('Count')\n",
    "        plt.tight_layout()\n",
    "        plt.show()"
   ]
  },
  {
   "cell_type": "markdown",
   "id": "16733d5a-1eec-4cc1-94be-177f72326445",
   "metadata": {},
   "source": [
    "### Bivariate"
   ]
  },
  {
   "cell_type": "code",
   "execution_count": null,
   "id": "bf68c84f-523b-422e-a42c-a194334c7577",
   "metadata": {},
   "outputs": [],
   "source": [
    "class Bivariate:\n",
    "    def __init__(self, data):\n",
    "        self.data = data\n",
    "\n",
    "    def scatter_plot(self, x_col, y_col):\n",
    "        sns.lmplot(x=x_col, y=y_col, data=self.data, aspect=1.5)\n",
    "        plt.title(f'Scatter Plot: {x_col} vs {y_col}')\n",
    "        plt.xlabel(x_col)\n",
    "        plt.ylabel(y_col)\n",
    "        plt.tight_layout()\n",
    "        plt.show()\n",
    "\n",
    "    def scatter_plot_with_hue(self, x_col, y_col, hue_col):\n",
    "        sns.lmplot(x=x_col, y=y_col, hue=hue_col, data=self.data, aspect=1.5)\n",
    "        plt.title(f'{x_col} vs {y_col} by {hue_col}')\n",
    "        plt.xlabel(x_col)\n",
    "        plt.ylabel(y_col)\n",
    "        plt.tight_layout()\n",
    "        plt.show()\n",
    "\n",
    "    def grouped_box_plot(self, group_col, value_col):\n",
    "        plt.figure(figsize=(8, 5))\n",
    "        sns.boxplot(x=group_col, y=value_col, data=self.data)\n",
    "        plt.title(f'{value_col} by {group_col}')\n",
    "        plt.xlabel(group_col)\n",
    "        plt.ylabel(value_col)\n",
    "        plt.tight_layout()\n",
    "        plt.show()"
   ]
  },
  {
   "cell_type": "markdown",
   "id": "4c9a244d-d68b-435c-9b1e-149615dc5a92",
   "metadata": {},
   "source": [
    "### Heatmap"
   ]
  },
  {
   "cell_type": "code",
   "execution_count": null,
   "id": "4e75fd82-2aca-4e4f-9b70-1b006700fcac",
   "metadata": {},
   "outputs": [],
   "source": [
    "def heat_map(data):\n",
    "    corr_matrix = data.select_dtypes(include='number').corr()\n",
    "    plt.figure(figsize=(12, 10))\n",
    "    sns.heatmap(corr_matrix, annot=True, cmap='coolwarm', center=0, fmt='.2f', linewidths=0.5)\n",
    "    plt.title('Correlation Heatmap')\n",
    "    plt.tight_layout()\n",
    "    plt.show()"
   ]
  },
  {
   "cell_type": "markdown",
   "id": "8786b2d2-a392-400f-84ec-9fd1a94a1594",
   "metadata": {},
   "source": [
    "### Main Menu"
   ]
  },
  {
   "cell_type": "code",
   "execution_count": null,
   "id": "d355f821-89b1-4a0a-a705-f7dbee279f5c",
   "metadata": {},
   "outputs": [],
   "source": [
    "def main():\n",
    "    datasets = {}\n",
    "    while True:\n",
    "        print(\"\\nMenu:\")\n",
    "        print(\"1. Load a dataset\")\n",
    "        print(\"2. List datasets\")\n",
    "        print(\"3. Visualize a dataset\")\n",
    "        print(\"4. Exit\")\n",
    "        choice = input(\"Choose an option: \")\n",
    "\n",
    "        if choice == '1':\n",
    "            name = input(\"Enter a name for the dataset: \")\n",
    "            path = input(\"Enter the file path (CSV): \")\n",
    "            try:\n",
    "                df = pd.read_csv(path)\n",
    "                datasets[name] = df\n",
    "                print(f\"Dataset '{name}' loaded successfully.\")\n",
    "            except Exception as e:\n",
    "                print(f\"Error loading dataset: {e}\")\n",
    "                \n",
    "\n",
    "        elif choice == '2':\n",
    "            print(\"Available datasets:\")\n",
    "            for name in datasets:\n",
    "                print(f\"- {name}\")\n",
    "                \n",
    "\n",
    "        elif choice == '3':\n",
    "            dataset_name = input(\"Enter the name of the dataset to visualize: \")\n",
    "            if dataset_name not in datasets:\n",
    "                print(\"Dataset not found.\")\n",
    "                continue\n",
    "            df = datasets[dataset_name]\n",
    "            print(\"Available visualizations:\")\n",
    "            print(\"1. Histogram\")\n",
    "            print(\"2. Box Plot\")\n",
    "            print(\"3. Bar Chart\")\n",
    "            print(\"4. Scatter Plot\")\n",
    "            print(\"5. Scatter Plot with Hue\")\n",
    "            print(\"6. Grouped Box Plot\")\n",
    "            print(\"7. Heatmap (correlation matrix)\")\n",
    "            vis_choice = input(\"Choose a visualization: \")\n",
    "\n",
    "            if vis_choice == '1':\n",
    "                col = input(\"Enter column for histogram: \")\n",
    "                Univariate(df).histogram(col)\n",
    "            elif vis_choice == '2':\n",
    "                col = input(\"Enter column for box plot: \")\n",
    "                Univariate(df).box_plot(col)\n",
    "            elif vis_choice == '3':\n",
    "                col = input(\"Enter categorical column for bar chart: \")\n",
    "                Univariate(df).bar_chart(col)\n",
    "            elif vis_choice == '4':\n",
    "                x = input(\"X-axis column: \")\n",
    "                y = input(\"Y-axis column: \")\n",
    "                Bivariate(df).scatter_plot(x, y)\n",
    "            elif vis_choice == '5':\n",
    "                x = input(\"X-axis column: \")\n",
    "                y = input(\"Y-axis column: \")\n",
    "                hue = input(\"Hue (grouping) column: \")\n",
    "                Bivariate(df).scatter_plot_with_hue(x, y, hue)\n",
    "            elif vis_choice == '6':\n",
    "                group = input(\"Grouping column: \")\n",
    "                value = input(\"Value column: \")\n",
    "                Bivariate(df).grouped_box_plot(group, value)\n",
    "            elif vis_choice == '7':\n",
    "                heat_map(df)\n",
    "            else:\n",
    "                print(\"Invalid visualization choice.\")\n",
    "                \n",
    "\n",
    "        elif choice == '4':\n",
    "            print(\"Exiting.\")\n",
    "            break\n",
    "            \n",
    "\n",
    "        else:\n",
    "            print(\"Invalid menu option.\")\n",
    "\n",
    "\n",
    "if __name__ == \"__main__\":\n",
    "    main()"
   ]
  }
 ],
 "metadata": {
  "kernelspec": {
   "display_name": "Python 3 (ipykernel)",
   "language": "python",
   "name": "python3"
  },
  "language_info": {
   "codemirror_mode": {
    "name": "ipython",
    "version": 3
   },
   "file_extension": ".py",
   "mimetype": "text/x-python",
   "name": "python",
   "nbconvert_exporter": "python",
   "pygments_lexer": "ipython3",
   "version": "3.12.6"
  }
 },
 "nbformat": 4,
 "nbformat_minor": 5
}
