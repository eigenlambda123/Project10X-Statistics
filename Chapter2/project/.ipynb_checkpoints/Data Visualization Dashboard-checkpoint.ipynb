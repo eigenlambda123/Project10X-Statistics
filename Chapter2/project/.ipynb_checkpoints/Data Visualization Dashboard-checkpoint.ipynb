{
 "cells": [
  {
   "cell_type": "code",
   "execution_count": 3,
   "id": "43a64dd8-7a53-4f90-b2f6-81781805fce4",
   "metadata": {},
   "outputs": [],
   "source": [
    "import pandas as pd\n",
    "import seaborn as sns\n",
    "import matplotlib.pyplot as plt\n",
    "univariate = pd.read_csv('../datasets/Sleep_Efficiency.csv')\n",
    "bavariate = pd.read_csv('../datasets/StudentsPerformance.csv')"
   ]
  },
  {
   "cell_type": "markdown",
   "id": "95452be6-24a4-4d46-a21f-254dacfa1dcf",
   "metadata": {},
   "source": [
    "---"
   ]
  },
  {
   "cell_type": "code",
   "execution_count": 8,
   "id": "9004cbb9-da81-4ad6-a310-68ca0ce7fc42",
   "metadata": {},
   "outputs": [],
   "source": [
    "import seaborn as sns\n",
    "import matplotlib.pyplot as plt\n",
    "\n",
    "class Univariate:\n",
    "    def __init__(self, data):\n",
    "        self.data = data    \n",
    "\n",
    "    def histogram(self):\n",
    "        df = self.data\n",
    "        sns.histplot(df['Sleep duration'], kde=True)\n",
    "        plt.title('Distribution of Sleep Duration')\n",
    "        plt.xlabel('Hours')\n",
    "        plt.ylabel('People')\n",
    "        plt.tight_layout()\n",
    "        plt.show() \n",
    "\n",
    "    def blox_plot(self):\n",
    "        df = self.data\n",
    "        sns.boxplot(y=df['Sleep efficiency'])\n",
    "        plt.title('Box Plot of Sleep Efficiency')\n",
    "        plt.ylabel('Efficiency (%)')\n",
    "        plt.tight_layout()\n",
    "        plt.show()\n",
    "\n",
    "    def bar_charts(self):\n",
    "        df = self.data\n",
    "        sns.countplot(x='Smoking status', data=df)\n",
    "        plt.title('Smoking status Distribution')\n",
    "        plt.xlabel('Status')\n",
    "        plt.ylabel('Count')\n",
    "        plt.tight_layout()\n",
    "        plt.show()\n",
    "\n",
    "\n",
    "class Bavariate:\n",
    "     def __init__(self, data):\n",
    "        self.data = data    "
   ]
  }
 ],
 "metadata": {
  "kernelspec": {
   "display_name": "Python 3 (ipykernel)",
   "language": "python",
   "name": "python3"
  },
  "language_info": {
   "codemirror_mode": {
    "name": "ipython",
    "version": 3
   },
   "file_extension": ".py",
   "mimetype": "text/x-python",
   "name": "python",
   "nbconvert_exporter": "python",
   "pygments_lexer": "ipython3",
   "version": "3.12.6"
  }
 },
 "nbformat": 4,
 "nbformat_minor": 5
}
